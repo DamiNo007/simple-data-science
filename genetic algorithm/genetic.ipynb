{
 "cells": [
  {
   "cell_type": "code",
   "execution_count": 1,
   "metadata": {},
   "outputs": [],
   "source": [
    "import numpy as np\n",
    "\n",
    "def neuron(x, w):\n",
    "    z = np.dot(w, x)\n",
    "    output = activation(z)\n",
    "    \n",
    "    return output "
   ]
  },
  {
   "cell_type": "code",
   "execution_count": 2,
   "metadata": {},
   "outputs": [],
   "source": [
    "def activation(z):\n",
    "    return 1/(1 + np.exp(-z))"
   ]
  },
  {
   "cell_type": "code",
   "execution_count": 3,
   "metadata": {},
   "outputs": [],
   "source": [
    "def normalize(X):\n",
    "    return (X - X.mean())/X.std()"
   ]
  },
  {
   "cell_type": "code",
   "execution_count": 4,
   "metadata": {},
   "outputs": [],
   "source": [
    "import random \n",
    "\n",
    "def generate_population(p,w_size):\n",
    "    population = []\n",
    "    \n",
    "    for i in range(p):\n",
    "        model = []\n",
    "        \n",
    "        for j in range(w_size + 1):\n",
    "            model.append(2*random.random() - 1)\n",
    "        \n",
    "        population.append(model)\n",
    "        \n",
    "    return np.array(population)"
   ]
  },
  {
   "cell_type": "code",
   "execution_count": 5,
   "metadata": {},
   "outputs": [],
   "source": [
    "def mutation(genom, t = 0.5, m = 0.1):\n",
    "    mutant = []\n",
    "    for gen in genom:\n",
    "        if random.random() <= t:\n",
    "            gen += m*(2*random.random() - 1)\n",
    "        mutant.append(gen)\n",
    "        \n",
    "    return mutant"
   ]
  },
  {
   "cell_type": "code",
   "execution_count": 6,
   "metadata": {},
   "outputs": [],
   "source": [
    "def accuracy(X, Y, model):\n",
    "    A = 0\n",
    "    m = len(Y)\n",
    "    for i, y in enumerate(Y):\n",
    "        A += (1/m) * (y* (1 if neuron(X[i], model) >= 0.5 else 0) + (1- y) *\n",
    "                      (0 if neuron(X[i], model) >= 0.5 else 1))\n",
    "    return A                  "
   ]
  },
  {
   "cell_type": "code",
   "execution_count": 7,
   "metadata": {},
   "outputs": [],
   "source": [
    "def selection(offspring, population):\n",
    "    offspring.sort()\n",
    "    population = [kid[1] for kid in offspring[:len(population)]]\n",
    "    return population"
   ]
  },
  {
   "cell_type": "code",
   "execution_count": 8,
   "metadata": {},
   "outputs": [],
   "source": [
    "def evolution(population, X_in, Y, number_of_generation, children):\n",
    "    for i in range(number_of_generations):\n",
    "        X = [[1] + [v.tolist()] for v in X_in]\n",
    "        offspring = []\n",
    "        \n",
    "        for genom in population:\n",
    "            for j in range(children):\n",
    "                child = mutation(genom)\n",
    "                child_loss = 1 - accuracy(X_in, Y, child)\n",
    "                \n",
    "                offspring.append([child_loss, child])\n",
    "            population = selection(offspring, population)\n",
    "        return population"
   ]
  },
  {
   "cell_type": "code",
   "execution_count": null,
   "metadata": {},
   "outputs": [],
   "source": []
  }
 ],
 "metadata": {
  "kernelspec": {
   "display_name": "Python 3",
   "language": "python",
   "name": "python3"
  },
  "language_info": {
   "codemirror_mode": {
    "name": "ipython",
    "version": 3
   },
   "file_extension": ".py",
   "mimetype": "text/x-python",
   "name": "python",
   "nbconvert_exporter": "python",
   "pygments_lexer": "ipython3",
   "version": "3.7.6"
  }
 },
 "nbformat": 4,
 "nbformat_minor": 2
}
