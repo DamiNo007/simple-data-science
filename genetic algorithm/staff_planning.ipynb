{
 "cells": [
  {
   "cell_type": "code",
   "execution_count": null,
   "metadata": {},
   "outputs": [],
   "source": [
    "#Planning for employees\n",
    "#The staff planning representes a list per day\n",
    "#Each day consists of many lists of length 3\n",
    "#Each list of 3 is an employee with the following items: staff id, starting time, shift duration\n",
    "#The number of lists is the number of casts that are possibly available on that day"
   ]
  },
  {
   "cell_type": "code",
   "execution_count": 19,
   "metadata": {},
   "outputs": [],
   "source": [
    "import numpy as np\n",
    "import pandas as pd"
   ]
  },
  {
   "cell_type": "code",
   "execution_count": 7,
   "metadata": {},
   "outputs": [],
   "source": [
    "staff_planning = []\n",
    "for k in range(4):\n",
    "    list = []\n",
    "    cnt = 0\n",
    "    for i in range(11):\n",
    "\n",
    "        temp = []\n",
    "        for j in range(3):       \n",
    "            if j == 0:\n",
    "                temp.append(cnt)\n",
    "                cnt = cnt + 1\n",
    "            elif j == 1:\n",
    "                temp.append(0)\n",
    "            else:\n",
    "                temp.append(10)\n",
    "        list.append(temp)\n",
    "    staff_planning.append(list)\n"
   ]
  },
  {
   "cell_type": "code",
   "execution_count": 8,
   "metadata": {},
   "outputs": [
    {
     "data": {
      "text/plain": [
       "[[[0, 0, 10],\n",
       "  [1, 0, 10],\n",
       "  [2, 0, 10],\n",
       "  [3, 0, 10],\n",
       "  [4, 0, 10],\n",
       "  [5, 0, 10],\n",
       "  [6, 0, 10],\n",
       "  [7, 0, 10],\n",
       "  [8, 0, 10],\n",
       "  [9, 0, 10],\n",
       "  [10, 0, 10]],\n",
       " [[0, 0, 10],\n",
       "  [1, 0, 10],\n",
       "  [2, 0, 10],\n",
       "  [3, 0, 10],\n",
       "  [4, 0, 10],\n",
       "  [5, 0, 10],\n",
       "  [6, 0, 10],\n",
       "  [7, 0, 10],\n",
       "  [8, 0, 10],\n",
       "  [9, 0, 10],\n",
       "  [10, 0, 10]],\n",
       " [[0, 0, 10],\n",
       "  [1, 0, 10],\n",
       "  [2, 0, 10],\n",
       "  [3, 0, 10],\n",
       "  [4, 0, 10],\n",
       "  [5, 0, 10],\n",
       "  [6, 0, 10],\n",
       "  [7, 0, 10],\n",
       "  [8, 0, 10],\n",
       "  [9, 0, 10],\n",
       "  [10, 0, 10]],\n",
       " [[0, 0, 10],\n",
       "  [1, 0, 10],\n",
       "  [2, 0, 10],\n",
       "  [3, 0, 10],\n",
       "  [4, 0, 10],\n",
       "  [5, 0, 10],\n",
       "  [6, 0, 10],\n",
       "  [7, 0, 10],\n",
       "  [8, 0, 10],\n",
       "  [9, 0, 10],\n",
       "  [10, 0, 10]]]"
      ]
     },
     "execution_count": 8,
     "metadata": {},
     "output_type": "execute_result"
    }
   ],
   "source": [
    "staff_planning"
   ]
  },
  {
   "cell_type": "code",
   "execution_count": null,
   "metadata": {},
   "outputs": [],
   "source": [
    "#Planning for shop\n",
    "#Based on previous day we know how many staff we need each hour\n",
    "#The staff needed is in the following shape\n",
    "    #-list of days\n",
    "    #-each dya is a list of 24 hours, with the number of employees"
   ]
  },
  {
   "cell_type": "code",
   "execution_count": 12,
   "metadata": {},
   "outputs": [],
   "source": [
    "hourlystaff_planning = []\n",
    "for i in range(5):\n",
    "    list = []\n",
    "    for j in range(24):\n",
    "        if j in range(0,7):\n",
    "            list.append(0)\n",
    "        if j in range(7, 10):\n",
    "            list.append(4)\n",
    "        if j in range(10, 13):\n",
    "            list.append(2)\n",
    "        if j in range(13, 15):\n",
    "            list.append(6)\n",
    "        if j in range(15,18):\n",
    "            list.append(2)\n",
    "        if j in range(18,21):\n",
    "            list.append(6)\n",
    "        if j in range(21, 25):\n",
    "            list.append(2)\n",
    "    hourlystaff_planning.append(list)\n",
    "                        "
   ]
  },
  {
   "cell_type": "code",
   "execution_count": 17,
   "metadata": {},
   "outputs": [
    {
     "data": {
      "text/plain": [
       "array([[0, 0, 0, 0, 0, 0, 0, 4, 4, 4, 2, 2, 2, 6, 6, 2, 2, 2, 6, 6, 6, 2,\n",
       "        2, 2],\n",
       "       [0, 0, 0, 0, 0, 0, 0, 4, 4, 4, 2, 2, 2, 6, 6, 2, 2, 2, 6, 6, 6, 2,\n",
       "        2, 2],\n",
       "       [0, 0, 0, 0, 0, 0, 0, 4, 4, 4, 2, 2, 2, 6, 6, 2, 2, 2, 6, 6, 6, 2,\n",
       "        2, 2],\n",
       "       [0, 0, 0, 0, 0, 0, 0, 4, 4, 4, 2, 2, 2, 6, 6, 2, 2, 2, 6, 6, 6, 2,\n",
       "        2, 2],\n",
       "       [0, 0, 0, 0, 0, 0, 0, 4, 4, 4, 2, 2, 2, 6, 6, 2, 2, 2, 6, 6, 6, 2,\n",
       "        2, 2]])"
      ]
     },
     "execution_count": 17,
     "metadata": {},
     "output_type": "execute_result"
    }
   ],
   "source": [
    "hourlystaff_planning"
   ]
  },
  {
   "cell_type": "code",
   "execution_count": 16,
   "metadata": {},
   "outputs": [],
   "source": [
    "hourlystaff_planning = np.array(hourlystaff_planning)"
   ]
  },
  {
   "cell_type": "code",
   "execution_count": null,
   "metadata": {},
   "outputs": [],
   "source": [
    "#the cost function is calculated as hours understaffed + hours overstaffed\n",
    "\n",
    "def cost(hourlystaff, hourlystaff_needed):\n",
    "    errors = hourlystaff - hourlystaff_needed\n",
    "    overstaff = abs(errors[errors > 0].sum())\n",
    "    understaff = abs(errors[errors < 0].sum())\n",
    "    \n",
    "    overstaff_cost = 1\n",
    "    understaff_cost = 1\n",
    "    \n",
    "    cost = overstaff_cost * overstaff + understaff_cost * understaff\n",
    "    \n",
    "    return cost"
   ]
  },
  {
   "cell_type": "markdown",
   "metadata": {},
   "source": [
    "There are two key steps in the Genetic Algorithm: mating (also cross-over or recombination) and mutation.\n",
    "In the Mating step, the new generation is formed from the offspring of individuals of the parent population, as it is in natural selection.\n",
    "To apply this to our example, consider that later on, we will be generating many not so good staff plannings and trying to combine the best ones together. So we need to define a way to “mix” two individuals (staff plannings) with each other.\n",
    "In this example, I have decided to code this as follows:\n",
    "* Choose a random mom from the population\n",
    "* Choose a random dad from the population\n",
    "* Create a child as the same size as a parent, but randomly filled with zeroes and ones.\n",
    "* The positions where the child has ones, we take the data from his father, and the positions where the child has zeroes, we take the data from his mother.\n",
    "* We repeat this for each child (the number of children is equal to the population size)"
   ]
  },
  {
   "cell_type": "code",
   "execution_count": 18,
   "metadata": {},
   "outputs": [],
   "source": [
    "# for each iteration select randomly two parents and make a random combination of those two parents\n",
    "# by applying a randomly generated yes/no mask to the two selected parents\n",
    "#Cross-Over for the Genetic Algorithm \n",
    "def random_combine(parents, n_offspring):\n",
    "    n_parents = len(parents)\n",
    "    n_periods = len(parents[0])\n",
    "    n_employees = len(parents[0][0])\n",
    "    \n",
    "    offspring = []\n",
    "    \n",
    "    for i in range(n_offspring):\n",
    "        random_dad = parents[np.random.randint(low = 0, high = n_parents - 1)]\n",
    "        random_mom = parents[np.random.randint(low = 0, high = n_parents - 1)]\n",
    "        \n",
    "        dad_mask = np.random.randint(0,2, size = np.array(random_dad).shape)\n",
    "        mom_mask= np.logical_not(dad_mask)\n",
    "        \n",
    "        child = np.add(np.multiply(random_dad, dad_mask), np.multiply(random_mom, random_mask))\n",
    "        \n",
    "        offspring.append(child)\n",
    "        \n",
    "    return offspring"
   ]
  },
  {
   "cell_type": "code",
   "execution_count": null,
   "metadata": {},
   "outputs": [],
   "source": [
    "def mutate_parent(parent, n_mutations):\n",
    "    size1 = parent.shape[0] #number of periods\n",
    "    size2 = parent.shape[1] #number of employees\n",
    "    \n",
    "    for i in range(n_mutations):\n",
    "        rand1 = np.random.randint(0,size1)\n",
    "        rand2 = np.random.randint(0,size2)\n",
    "        rand3 = np.random.randint(1,2)\n",
    "        \n",
    "        parent[rand1, rand2, rand3] = np.random.randint(0,10)\n",
    "    return parent\n",
    "\n",
    "def mutate_gen(parent_gen, n_mutations):\n",
    "    mutated_parent_gen = []\n",
    "    \n",
    "    for parent in parent_gen:\n",
    "        mutated_parent_gen.append(mutate_parent(parent, n_mutations))\n",
    "    \n",
    "    return mutated_parent_gen"
   ]
  },
  {
   "cell_type": "code",
   "execution_count": null,
   "metadata": {},
   "outputs": [],
   "source": [
    "#Select all feasible solutions: remove those in which employees work more than 10 hours\n",
    "def is_acceptable(parent):\n",
    "    return np.logical_not((np.array(parent)[:,:,2] > 10).any())\n",
    "\n",
    "def selected_acceptable(parent_gen):\n",
    "    parent_gen = [parent for parent in parent_gen if is_acceptable(parent)]\n",
    "    return parent_gen"
   ]
  },
  {
   "cell_type": "code",
   "execution_count": 22,
   "metadata": {},
   "outputs": [],
   "source": [
    "def select_best(parent_gen, hourlystaff_needed, n_best):\n",
    "    costs = []\n",
    "    \n",
    "    for idx, parent_staff_planning in enumerate(parent_gen):\n",
    "        parent_hourly_planning = staffplanning_to_hourlyplanning(parent_staff_planning)\n",
    "        parent_cost = cost(parent_hourly_planning, hourlystaff_needed)\n",
    "        costs.append([idx, parent_cost])\n",
    "        \n",
    "    costs_temp = pd.DataFrame(costs).sort_values(by = 1, ascending = True).reset_index(drop = True)\n",
    "    selected_parents_idx = list(costs_tmp.iloc[:n_best, 0])\n",
    "    selected_parents = [parent for idx, parent in enumerate(parent_gen) if idx in selected_parents_idx]\n",
    "    \n",
    "    return selected_parents"
   ]
  },
  {
   "cell_type": "code",
   "execution_count": 24,
   "metadata": {},
   "outputs": [],
   "source": [
    "#Overall function\n",
    "\n",
    "def gen_algo(hourlystaff_needed, n_iterations):\n",
    "    generation_size = 500\n",
    "    \n",
    "    parent_gen = create_parent_generation(n_parents = generation_size, n_days = 5, n_staff = 11)\n",
    "    for it in range(n_iterations):\n",
    "        parent_gen = select_acceptable(parent_gen)\n",
    "        parent_gen = select_best(parent_gen, hourlystaff_needed, n_best = 100)\n",
    "        parent_gen = random_combine(parent_gen, n_offspring = generation_size)\n",
    "        parent_gen = mutate_gen(parent_gen, n_mutations = 1)\n",
    "        \n",
    "    best_child = select_best(parent_gen, hourlystaff_needed, n_best = 1)\n",
    "    \n",
    "    return best_child"
   ]
  }
 ],
 "metadata": {
  "kernelspec": {
   "display_name": "Python 3",
   "language": "python",
   "name": "python3"
  },
  "language_info": {
   "codemirror_mode": {
    "name": "ipython",
    "version": 3
   },
   "file_extension": ".py",
   "mimetype": "text/x-python",
   "name": "python",
   "nbconvert_exporter": "python",
   "pygments_lexer": "ipython3",
   "version": "3.7.4"
  }
 },
 "nbformat": 4,
 "nbformat_minor": 2
}
