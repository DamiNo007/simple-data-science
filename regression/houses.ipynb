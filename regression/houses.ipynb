{
 "cells": [
  {
   "cell_type": "code",
   "execution_count": 27,
   "metadata": {},
   "outputs": [],
   "source": [
    "from keras.datasets import boston_housing\n",
    "from keras import models, layers\n",
    "\n",
    "(train_data, train_targets), (test_data, test_targets) = boston_housing.load_data()"
   ]
  },
  {
   "cell_type": "code",
   "execution_count": 28,
   "metadata": {},
   "outputs": [
    {
     "data": {
      "text/plain": [
       "(404, 13)"
      ]
     },
     "execution_count": 28,
     "metadata": {},
     "output_type": "execute_result"
    }
   ],
   "source": [
    "train_data.shape"
   ]
  },
  {
   "cell_type": "code",
   "execution_count": 29,
   "metadata": {},
   "outputs": [
    {
     "data": {
      "text/plain": [
       "404"
      ]
     },
     "execution_count": 29,
     "metadata": {},
     "output_type": "execute_result"
    }
   ],
   "source": [
    "len(train_data)"
   ]
  },
  {
   "cell_type": "code",
   "execution_count": 30,
   "metadata": {},
   "outputs": [
    {
     "data": {
      "text/plain": [
       "(102, 13)"
      ]
     },
     "execution_count": 30,
     "metadata": {},
     "output_type": "execute_result"
    }
   ],
   "source": [
    "test_data.shape"
   ]
  },
  {
   "cell_type": "code",
   "execution_count": 31,
   "metadata": {},
   "outputs": [
    {
     "data": {
      "text/plain": [
       "(102,)"
      ]
     },
     "execution_count": 31,
     "metadata": {},
     "output_type": "execute_result"
    }
   ],
   "source": [
    "test_targets.shape"
   ]
  },
  {
   "cell_type": "code",
   "execution_count": 32,
   "metadata": {},
   "outputs": [
    {
     "data": {
      "text/plain": [
       "array([15.2, 42.3, 50. , 21.1, 17.7, 18.5, 11.3, 15.6, 15.6, 14.4, 12.1,\n",
       "       17.9, 23.1, 19.9, 15.7,  8.8, 50. , 22.5, 24.1, 27.5, 10.9, 30.8,\n",
       "       32.9, 24. , 18.5, 13.3, 22.9, 34.7, 16.6, 17.5, 22.3, 16.1, 14.9,\n",
       "       23.1, 34.9, 25. , 13.9, 13.1, 20.4, 20. , 15.2, 24.7, 22.2, 16.7,\n",
       "       12.7, 15.6, 18.4, 21. , 30.1, 15.1, 18.7,  9.6, 31.5, 24.8, 19.1,\n",
       "       22. , 14.5, 11. , 32. , 29.4, 20.3, 24.4, 14.6, 19.5, 14.1, 14.3,\n",
       "       15.6, 10.5,  6.3, 19.3, 19.3, 13.4, 36.4, 17.8, 13.5, 16.5,  8.3,\n",
       "       14.3, 16. , 13.4, 28.6, 43.5, 20.2, 22. , 23. , 20.7, 12.5, 48.5,\n",
       "       14.6, 13.4, 23.7, 50. , 21.7, 39.8, 38.7, 22.2, 34.9, 22.5, 31.1,\n",
       "       28.7, 46. , 41.7, 21. , 26.6, 15. , 24.4, 13.3, 21.2, 11.7, 21.7,\n",
       "       19.4, 50. , 22.8, 19.7, 24.7, 36.2, 14.2, 18.9, 18.3, 20.6, 24.6,\n",
       "       18.2,  8.7, 44. , 10.4, 13.2, 21.2, 37. , 30.7, 22.9, 20. , 19.3,\n",
       "       31.7, 32. , 23.1, 18.8, 10.9, 50. , 19.6,  5. , 14.4, 19.8, 13.8,\n",
       "       19.6, 23.9, 24.5, 25. , 19.9, 17.2, 24.6, 13.5, 26.6, 21.4, 11.9,\n",
       "       22.6, 19.6,  8.5, 23.7, 23.1, 22.4, 20.5, 23.6, 18.4, 35.2, 23.1,\n",
       "       27.9, 20.6, 23.7, 28. , 13.6, 27.1, 23.6, 20.6, 18.2, 21.7, 17.1,\n",
       "        8.4, 25.3, 13.8, 22.2, 18.4, 20.7, 31.6, 30.5, 20.3,  8.8, 19.2,\n",
       "       19.4, 23.1, 23. , 14.8, 48.8, 22.6, 33.4, 21.1, 13.6, 32.2, 13.1,\n",
       "       23.4, 18.9, 23.9, 11.8, 23.3, 22.8, 19.6, 16.7, 13.4, 22.2, 20.4,\n",
       "       21.8, 26.4, 14.9, 24.1, 23.8, 12.3, 29.1, 21. , 19.5, 23.3, 23.8,\n",
       "       17.8, 11.5, 21.7, 19.9, 25. , 33.4, 28.5, 21.4, 24.3, 27.5, 33.1,\n",
       "       16.2, 23.3, 48.3, 22.9, 22.8, 13.1, 12.7, 22.6, 15. , 15.3, 10.5,\n",
       "       24. , 18.5, 21.7, 19.5, 33.2, 23.2,  5. , 19.1, 12.7, 22.3, 10.2,\n",
       "       13.9, 16.3, 17. , 20.1, 29.9, 17.2, 37.3, 45.4, 17.8, 23.2, 29. ,\n",
       "       22. , 18. , 17.4, 34.6, 20.1, 25. , 15.6, 24.8, 28.2, 21.2, 21.4,\n",
       "       23.8, 31. , 26.2, 17.4, 37.9, 17.5, 20. ,  8.3, 23.9,  8.4, 13.8,\n",
       "        7.2, 11.7, 17.1, 21.6, 50. , 16.1, 20.4, 20.6, 21.4, 20.6, 36.5,\n",
       "        8.5, 24.8, 10.8, 21.9, 17.3, 18.9, 36.2, 14.9, 18.2, 33.3, 21.8,\n",
       "       19.7, 31.6, 24.8, 19.4, 22.8,  7.5, 44.8, 16.8, 18.7, 50. , 50. ,\n",
       "       19.5, 20.1, 50. , 17.2, 20.8, 19.3, 41.3, 20.4, 20.5, 13.8, 16.5,\n",
       "       23.9, 20.6, 31.5, 23.3, 16.8, 14. , 33.8, 36.1, 12.8, 18.3, 18.7,\n",
       "       19.1, 29. , 30.1, 50. , 50. , 22. , 11.9, 37.6, 50. , 22.7, 20.8,\n",
       "       23.5, 27.9, 50. , 19.3, 23.9, 22.6, 15.2, 21.7, 19.2, 43.8, 20.3,\n",
       "       33.2, 19.9, 22.5, 32.7, 22. , 17.1, 19. , 15. , 16.1, 25.1, 23.7,\n",
       "       28.7, 37.2, 22.6, 16.4, 25. , 29.8, 22.1, 17.4, 18.1, 30.3, 17.5,\n",
       "       24.7, 12.6, 26.5, 28.7, 13.3, 10.4, 24.4, 23. , 20. , 17.8,  7. ,\n",
       "       11.8, 24.4, 13.8, 19.4, 25.2, 19.4, 19.4, 29.1])"
      ]
     },
     "execution_count": 32,
     "metadata": {},
     "output_type": "execute_result"
    }
   ],
   "source": [
    "train_targets"
   ]
  },
  {
   "cell_type": "code",
   "execution_count": 11,
   "metadata": {},
   "outputs": [],
   "source": [
    "#Standardize data (z-standardization)\n",
    "mean = train_data.mean(axis = 0)\n",
    "train_data -= mean\n",
    "std = train_data.std(axis = 0)\n",
    "\n",
    "train_data /= std\n",
    "\n",
    "test_data -= mean\n",
    "test_data /= std"
   ]
  },
  {
   "cell_type": "code",
   "execution_count": 13,
   "metadata": {},
   "outputs": [
    {
     "data": {
      "text/plain": [
       "array([[-0.27224633, -0.48361547, -0.43576161, ...,  1.14850044,\n",
       "         0.44807713,  0.8252202 ],\n",
       "       [-0.40342651,  2.99178419, -1.33391162, ..., -1.71818909,\n",
       "         0.43190599, -1.32920239],\n",
       "       [ 0.1249402 , -0.48361547,  1.0283258 , ...,  0.78447637,\n",
       "         0.22061726, -1.30850006],\n",
       "       ...,\n",
       "       [-0.40202987,  0.99079651, -0.7415148 , ..., -0.71712291,\n",
       "         0.07943894, -0.67776904],\n",
       "       [-0.17292018, -0.48361547,  1.24588095, ..., -1.71818909,\n",
       "        -0.98764362,  0.42083466],\n",
       "       [-0.40422614,  2.04394792, -1.20161456, ..., -1.30866202,\n",
       "         0.23317118, -1.15392266]])"
      ]
     },
     "execution_count": 13,
     "metadata": {},
     "output_type": "execute_result"
    }
   ],
   "source": [
    "train_data"
   ]
  },
  {
   "cell_type": "code",
   "execution_count": 20,
   "metadata": {},
   "outputs": [],
   "source": [
    "def build_model():\n",
    "    model = models.Sequential()\n",
    "    model.add(layers.Dense(64, activation = 'relu', input_shape = (train_data.shape[1],)))\n",
    "    model.add(layers.Dense(64, activation = 'relu'))\n",
    "    model.add(layers.Dense(1))\n",
    "    model.compile(optimizer = 'rmsprop', loss = 'mse', metrics = ['mae'])\n",
    "    return model"
   ]
  },
  {
   "cell_type": "code",
   "execution_count": 37,
   "metadata": {},
   "outputs": [
    {
     "name": "stdout",
     "output_type": "stream",
     "text": [
      "processing fold # 0\n",
      "processing fold # 1\n",
      "processing fold # 2\n",
      "processing fold # 3\n"
     ]
    }
   ],
   "source": [
    "import numpy as np\n",
    "\n",
    "k = 4\n",
    "num_val_samples = len(train_data) // k\n",
    "num_epochs = 100\n",
    "all_mae_histories = []\n",
    "\n",
    "for i in range(k):\n",
    "    print('processing fold #', i)\n",
    "    \n",
    "    val_data = train_data[i*num_val_samples: (i+1) * num_val_samples]\n",
    "    val_targets = train_targets[i*num_val_samples:(i+1) * num_val_samples]\n",
    "    \n",
    "    partial_train_data = np.concatenate(\n",
    "        [train_data[:i*num_val_samples],\n",
    "         train_data[(i+1)*num_val_samples:]],\n",
    "         axis = 0)\n",
    "    \n",
    "    partial_train_targets = np.concatenate(\n",
    "        [train_targets[:i*num_val_samples],\n",
    "         train_targets[(i+1) * num_val_samples:]],\n",
    "        axis = 0)\n",
    "    \n",
    "    model = build_model()\n",
    "    \n",
    "    history = model.fit(partial_train_data, partial_train_targets,\n",
    "              validation_data = (val_data, val_targets),\n",
    "             epochs = num_epochs, batch_size = 1, verbose = 0)\n",
    "    mae_hist = history.history['mae']\n",
    "    all_mae_histories.append(mae_hist)"
   ]
  },
  {
   "cell_type": "code",
   "execution_count": 44,
   "metadata": {},
   "outputs": [
    {
     "data": {
      "text/plain": [
       "[10.642854,\n",
       " 9.283175,\n",
       " 7.968668,\n",
       " 7.4692464,\n",
       " 6.5725465,\n",
       " 6.313836,\n",
       " 6.1528435,\n",
       " 5.748403,\n",
       " 5.914507,\n",
       " 5.460226,\n",
       " 5.326043,\n",
       " 5.1765995,\n",
       " 5.101132,\n",
       " 4.7904625,\n",
       " 4.730839,\n",
       " 4.685769,\n",
       " 4.75764,\n",
       " 4.5579576,\n",
       " 4.5469794,\n",
       " 4.434862,\n",
       " 4.341831,\n",
       " 4.3661118,\n",
       " 4.341927,\n",
       " 4.069238,\n",
       " 4.2650886,\n",
       " 4.0266123,\n",
       " 4.2377086,\n",
       " 3.9323282,\n",
       " 3.8014338,\n",
       " 3.8847914,\n",
       " 3.8990445,\n",
       " 3.8260493,\n",
       " 3.6869195,\n",
       " 3.8975503,\n",
       " 3.6841497,\n",
       " 3.680484,\n",
       " 3.673988,\n",
       " 3.4096358,\n",
       " 3.5488157,\n",
       " 3.5543516,\n",
       " 3.4112983,\n",
       " 3.4930894,\n",
       " 3.426461,\n",
       " 3.2610128,\n",
       " 3.357882,\n",
       " 3.3815765,\n",
       " 3.3507514,\n",
       " 3.2793868,\n",
       " 3.3448727,\n",
       " 3.2515187,\n",
       " 3.2862153,\n",
       " 3.3111808,\n",
       " 3.31474,\n",
       " 3.245944,\n",
       " 3.335133,\n",
       " 3.175869,\n",
       " 3.233242,\n",
       " 3.3734577,\n",
       " 3.2294548,\n",
       " 3.2297568,\n",
       " 3.194845,\n",
       " 3.2578063,\n",
       " 3.0878384,\n",
       " 3.1559994,\n",
       " 3.0699525,\n",
       " 3.2549903,\n",
       " 3.1233191,\n",
       " 3.1134217,\n",
       " 3.0370061,\n",
       " 3.04792,\n",
       " 3.0987566,\n",
       " 3.2540479,\n",
       " 3.180414,\n",
       " 3.1024256,\n",
       " 3.0231373,\n",
       " 3.1583436,\n",
       " 3.0465698,\n",
       " 3.0962846,\n",
       " 3.1610687,\n",
       " 2.9772584,\n",
       " 3.033881,\n",
       " 3.0362213,\n",
       " 3.0394647,\n",
       " 3.003071,\n",
       " 2.9857025,\n",
       " 2.9702866,\n",
       " 3.0391705,\n",
       " 3.0806103,\n",
       " 3.0109997,\n",
       " 2.9382148,\n",
       " 2.9600313,\n",
       " 2.9548724,\n",
       " 2.8570085,\n",
       " 2.945671,\n",
       " 2.838176,\n",
       " 2.8682003,\n",
       " 2.8532193,\n",
       " 2.9426763,\n",
       " 2.8968236,\n",
       " 2.939098]"
      ]
     },
     "execution_count": 44,
     "metadata": {},
     "output_type": "execute_result"
    }
   ],
   "source": [
    "all_mae_histories[0]"
   ]
  },
  {
   "cell_type": "code",
   "execution_count": 47,
   "metadata": {},
   "outputs": [],
   "source": [
    "average_mae_hist = [np.mean([x[i] for x in all_mae_histories ]) for i in range(num_epochs)]\n"
   ]
  },
  {
   "cell_type": "code",
   "execution_count": 48,
   "metadata": {},
   "outputs": [
    {
     "data": {
      "text/plain": [
       "[9.995467,\n",
       " 8.577239,\n",
       " 7.5605507,\n",
       " 7.0321584,\n",
       " 6.54687,\n",
       " 6.412937,\n",
       " 5.979625,\n",
       " 5.7598896,\n",
       " 5.691887,\n",
       " 5.4716005,\n",
       " 5.4443307,\n",
       " 5.17842,\n",
       " 5.000579,\n",
       " 4.9691224,\n",
       " 4.8115253,\n",
       " 4.804901,\n",
       " 4.7483807,\n",
       " 4.6492357,\n",
       " 4.6302905,\n",
       " 4.478403,\n",
       " 4.4814224,\n",
       " 4.4262547,\n",
       " 4.2553406,\n",
       " 4.172779,\n",
       " 4.2558694,\n",
       " 4.091476,\n",
       " 4.1329637,\n",
       " 3.9978728,\n",
       " 3.8690903,\n",
       " 3.893723,\n",
       " 3.8087096,\n",
       " 3.7621021,\n",
       " 3.7232957,\n",
       " 3.6947994,\n",
       " 3.6261988,\n",
       " 3.602787,\n",
       " 3.6459727,\n",
       " 3.4906783,\n",
       " 3.51615,\n",
       " 3.4979968,\n",
       " 3.4705884,\n",
       " 3.406691,\n",
       " 3.3919964,\n",
       " 3.3452182,\n",
       " 3.347233,\n",
       " 3.3647945,\n",
       " 3.3069615,\n",
       " 3.2928736,\n",
       " 3.2816808,\n",
       " 3.26888,\n",
       " 3.2713215,\n",
       " 3.2400575,\n",
       " 3.2683225,\n",
       " 3.1544764,\n",
       " 3.1764407,\n",
       " 3.2163918,\n",
       " 3.2088516,\n",
       " 3.2644677,\n",
       " 3.2045894,\n",
       " 3.1662076,\n",
       " 3.123438,\n",
       " 3.1456938,\n",
       " 3.1013489,\n",
       " 3.1196272,\n",
       " 3.063669,\n",
       " 3.160633,\n",
       " 3.080227,\n",
       " 3.0332327,\n",
       " 3.0478907,\n",
       " 3.0620937,\n",
       " 3.0817251,\n",
       " 3.0453155,\n",
       " 3.0945606,\n",
       " 3.0519464,\n",
       " 2.9507694,\n",
       " 3.062593,\n",
       " 3.030084,\n",
       " 3.0835626,\n",
       " 3.0107489,\n",
       " 2.974761,\n",
       " 2.9452586,\n",
       " 3.0232687,\n",
       " 2.9965193,\n",
       " 2.9605,\n",
       " 2.962701,\n",
       " 2.9393055,\n",
       " 2.954789,\n",
       " 2.9404662,\n",
       " 2.9425392,\n",
       " 2.8942184,\n",
       " 2.924944,\n",
       " 2.9122167,\n",
       " 2.9086137,\n",
       " 2.9357212,\n",
       " 2.928067,\n",
       " 2.9038982,\n",
       " 2.8451278,\n",
       " 2.847534,\n",
       " 2.9103665,\n",
       " 2.885969]"
      ]
     },
     "execution_count": 48,
     "metadata": {},
     "output_type": "execute_result"
    }
   ],
   "source": [
    "average_mae_hist"
   ]
  },
  {
   "cell_type": "code",
   "execution_count": 50,
   "metadata": {},
   "outputs": [
    {
     "data": {
      "image/png": "[encoded data removed]",
      "text/plain": [
       "<Figure size 648x432 with 1 Axes>"
      ]
     },
     "metadata": {},
     "output_type": "display_data"
    }
   ],
   "source": [
    "import matplotlib.pyplot as plt\n",
    "import seaborn as sns\n",
    "\n",
    "sns.set(rc = {'figure.figsize' : (9,6)})\n",
    "\n",
    "plt.plot(range(1, len(average_mae_hist) + 1), average_mae_hist)\n",
    "plt.xlabel('Epochs')\n",
    "plt.ylabel('Validation MAE')\n",
    "plt.show()"
   ]
  },
  {
   "cell_type": "code",
   "execution_count": 51,
   "metadata": {},
   "outputs": [
    {
     "data": {
      "text/plain": [
       "[<matplotlib.lines.Line2D at 0x27349d193c8>]"
      ]
     },
     "execution_count": 51,
     "metadata": {},
     "output_type": "execute_result"
    },
    {
     "data": {
      "image/png": "[encoded data removed]",
      "text/plain": [
       "<Figure size 648x432 with 1 Axes>"
      ]
     },
     "metadata": {},
     "output_type": "display_data"
    }
   ],
   "source": [
    "plt.plot(range(1, len(average_mae_hist) + 1), average_mae_hist)"
   ]
  },
  {
   "cell_type": "code",
   "execution_count": 54,
   "metadata": {},
   "outputs": [
    {
     "name": "stdout",
     "output_type": "stream",
     "text": [
      "102/102 [==============================] - 0s 68us/step\n"
     ]
    }
   ],
   "source": [
    "results = model.evaluate(test_data, test_targets)"
   ]
  },
  {
   "cell_type": "code",
   "execution_count": 64,
   "metadata": {},
   "outputs": [],
   "source": [
    "def smooth_curve(points, factor = 0.9):\n",
    "    smoothed_points = []\n",
    "    \n",
    "    for p in points:\n",
    "        if smoothed_points:\n",
    "            previous = smoothed_points[-1]\n",
    "            smoothed_points.append(previous * factor + p * (1 - factor))     \n",
    "        else:\n",
    "            smoothed_points.append(p)\n",
    "    return smoothed_points\n"
   ]
  },
  {
   "cell_type": "code",
   "execution_count": 65,
   "metadata": {},
   "outputs": [
    {
     "data": {
      "image/png": "[encoded data removed]",
      "text/plain": [
       "<Figure size 648x432 with 1 Axes>"
      ]
     },
     "metadata": {},
     "output_type": "display_data"
    }
   ],
   "source": [
    "smooth_mae_hist = smooth_curve(average_mae_hist[10:])\n",
    "plt.plot(range(1, len(smooth_mae_hist) + 1), smooth_mae_hist)\n",
    "plt.xlabel('Epochs')\n",
    "plt.ylabel('Validation MAE')\n",
    "plt.show()"
   ]
  },
  {
   "cell_type": "code",
   "execution_count": 66,
   "metadata": {},
   "outputs": [
    {
     "name": "stdout",
     "output_type": "stream",
     "text": [
      "102/102 [==============================] - 0s 68us/step\n"
     ]
    }
   ],
   "source": [
    "best_model = build_model()\n",
    "\n",
    "best_model.fit(train_data, train_targets, epochs = 80, batch_size = 16, verbose = 0)\n",
    "\n",
    "test_mse_score, test_mae_score = model.evaluate(test_data, test_targets)"
   ]
  },
  {
   "cell_type": "code",
   "execution_count": 67,
   "metadata": {},
   "outputs": [
    {
     "data": {
      "text/plain": [
       "23.566429138183594"
      ]
     },
     "execution_count": 67,
     "metadata": {},
     "output_type": "execute_result"
    }
   ],
   "source": [
    "test_mse_score"
   ]
  },
  {
   "cell_type": "code",
   "execution_count": 68,
   "metadata": {},
   "outputs": [
    {
     "data": {
      "text/plain": [
       "3.6053154468536377"
      ]
     },
     "execution_count": 68,
     "metadata": {},
     "output_type": "execute_result"
    }
   ],
   "source": [
    "test_mae_score"
   ]
  },
  {
   "cell_type": "code",
   "execution_count": 80,
   "metadata": {},
   "outputs": [],
   "source": [
    "res = model.predict(test_data)"
   ]
  },
  {
   "cell_type": "code",
   "execution_count": 81,
   "metadata": {},
   "outputs": [
    {
     "data": {
      "text/plain": [
       "array([[12.5629835],\n",
       "       [19.9095   ],\n",
       "       [22.591097 ],\n",
       "       [31.475363 ],\n",
       "       [23.405418 ],\n",
       "       [23.120943 ],\n",
       "       [31.717775 ],\n",
       "       [23.658138 ],\n",
       "       [21.04246  ],\n",
       "       [19.695608 ],\n",
       "       [14.60067  ],\n",
       "       [18.580929 ],\n",
       "       [18.186485 ],\n",
       "       [42.834064 ],\n",
       "       [18.256733 ],\n",
       "       [23.245975 ],\n",
       "       [25.436136 ],\n",
       "       [21.845207 ],\n",
       "       [18.620796 ],\n",
       "       [24.31403  ],\n",
       "       [10.950366 ],\n",
       "       [10.577102 ],\n",
       "       [20.566015 ],\n",
       "       [18.029163 ],\n",
       "       [22.681135 ],\n",
       "       [22.69716  ],\n",
       "       [26.133112 ],\n",
       "       [39.653248 ],\n",
       "       [11.914929 ],\n",
       "       [24.851713 ],\n",
       "       [21.629364 ],\n",
       "       [13.391028 ],\n",
       "       [38.707745 ],\n",
       "       [24.052994 ],\n",
       "       [17.039244 ],\n",
       "       [ 9.59522  ],\n",
       "       [16.620695 ],\n",
       "       [14.406456 ],\n",
       "       [18.833261 ],\n",
       "       [29.824684 ],\n",
       "       [26.98238  ],\n",
       "       [23.428513 ],\n",
       "       [16.286926 ],\n",
       "       [34.58556  ],\n",
       "       [42.04353  ],\n",
       "       [24.061136 ],\n",
       "       [31.454138 ],\n",
       "       [21.009317 ],\n",
       "       [25.392973 ],\n",
       "       [22.747887 ],\n",
       "       [39.154232 ],\n",
       "       [21.627151 ],\n",
       "       [12.388331 ],\n",
       "       [18.390951 ],\n",
       "       [36.321716 ],\n",
       "       [28.678616 ],\n",
       "       [14.093349 ],\n",
       "       [39.755825 ],\n",
       "       [42.531742 ],\n",
       "       [24.226582 ],\n",
       "       [21.821787 ],\n",
       "       [17.272902 ],\n",
       "       [15.453322 ],\n",
       "       [21.83172  ],\n",
       "       [24.543993 ],\n",
       "       [25.143126 ],\n",
       "       [15.445382 ],\n",
       "       [26.471308 ],\n",
       "       [16.377266 ],\n",
       "       [ 9.85404  ],\n",
       "       [22.929953 ],\n",
       "       [30.342752 ],\n",
       "       [22.046453 ],\n",
       "       [16.546658 ],\n",
       "       [25.135532 ],\n",
       "       [21.436357 ],\n",
       "       [24.28748  ],\n",
       "       [22.778603 ],\n",
       "       [41.38009  ],\n",
       "       [11.732741 ],\n",
       "       [21.177767 ],\n",
       "       [41.25342  ],\n",
       "       [18.12421  ],\n",
       "       [15.503433 ],\n",
       "       [21.378538 ],\n",
       "       [19.72964  ],\n",
       "       [19.297033 ],\n",
       "       [22.286375 ],\n",
       "       [21.32464  ],\n",
       "       [31.481052 ],\n",
       "       [22.023348 ],\n",
       "       [24.04214  ],\n",
       "       [22.47834  ],\n",
       "       [33.67014  ],\n",
       "       [41.59668  ],\n",
       "       [19.750652 ],\n",
       "       [38.878223 ],\n",
       "       [40.169163 ],\n",
       "       [27.331408 ],\n",
       "       [50.624256 ],\n",
       "       [28.808558 ],\n",
       "       [18.217241 ]], dtype=float32)"
      ]
     },
     "execution_count": 81,
     "metadata": {},
     "output_type": "execute_result"
    }
   ],
   "source": [
    "res"
   ]
  },
  {
   "cell_type": "code",
   "execution_count": 82,
   "metadata": {},
   "outputs": [
    {
     "data": {
      "text/plain": [
       "(102, 1)"
      ]
     },
     "execution_count": 82,
     "metadata": {},
     "output_type": "execute_result"
    }
   ],
   "source": [
    "res.shape"
   ]
  }
 ],
 "metadata": {
  "kernelspec": {
   "display_name": "Python 3",
   "language": "python",
   "name": "python3"
  },
  "language_info": {
   "codemirror_mode": {
    "name": "ipython",
    "version": 3
   },
   "file_extension": ".py",
   "mimetype": "text/x-python",
   "name": "python",
   "nbconvert_exporter": "python",
   "pygments_lexer": "ipython3",
   "version": "3.7.4"
  }
 },
 "nbformat": 4,
 "nbformat_minor": 2
}
